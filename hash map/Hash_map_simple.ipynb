{
 "cells": [
  {
   "cell_type": "code",
   "execution_count": 1,
   "id": "d3f31f25",
   "metadata": {},
   "outputs": [],
   "source": [
    "stock_price = []\n",
    "with open (\"stock_prices.csv\",\"r\") as f:\n",
    "    for line in f:\n",
    "        token = line.split(\",\")\n",
    "        day = token[0]\n",
    "        price = float(token[1])\n",
    "        stock_price.append([day,price])\n",
    "    "
   ]
  },
  {
   "cell_type": "code",
   "execution_count": 3,
   "id": "8bac8676",
   "metadata": {},
   "outputs": [
    {
     "data": {
      "text/plain": [
       "[['march 6', 310.0],\n",
       " ['march 7', 340.0],\n",
       " ['march 8', 380.0],\n",
       " ['march 9', 302.0],\n",
       " ['march 10', 297.0],\n",
       " ['march 11', 323.0]]"
      ]
     },
     "execution_count": 3,
     "metadata": {},
     "output_type": "execute_result"
    }
   ],
   "source": [
    "stock_price"
   ]
  },
  {
   "cell_type": "code",
   "execution_count": 7,
   "id": "56e69c11",
   "metadata": {},
   "outputs": [
    {
     "name": "stdout",
     "output_type": "stream",
     "text": [
      "302.0\n"
     ]
    }
   ],
   "source": [
    "for data in stock_price:\n",
    "    if data[0] == 'march 9':\n",
    "        print(data[1])"
   ]
  },
  {
   "cell_type": "markdown",
   "id": "d05d2b7e",
   "metadata": {},
   "source": [
    "# Using Dict"
   ]
  },
  {
   "cell_type": "code",
   "execution_count": 9,
   "id": "8585492f",
   "metadata": {},
   "outputs": [],
   "source": [
    "stock_price = {}\n",
    "with open (\"stock_prices.csv\",\"r\") as f:\n",
    "    for line in f:\n",
    "        token = line.split(\",\")\n",
    "        day = token[0]\n",
    "        price = float(token[1])\n",
    "        stock_price[day] = price"
   ]
  },
  {
   "cell_type": "code",
   "execution_count": 11,
   "id": "50100ca5",
   "metadata": {},
   "outputs": [
    {
     "data": {
      "text/plain": [
       "{'march 6': 310.0,\n",
       " 'march 7': 340.0,\n",
       " 'march 8': 380.0,\n",
       " 'march 9': 302.0,\n",
       " 'march 10': 297.0,\n",
       " 'march 11': 323.0}"
      ]
     },
     "execution_count": 11,
     "metadata": {},
     "output_type": "execute_result"
    }
   ],
   "source": [
    "stock_price"
   ]
  },
  {
   "cell_type": "markdown",
   "id": "ff18d5bd",
   "metadata": {},
   "source": [
    "# Complexity of search using dictionary is O(1)\n"
   ]
  },
  {
   "cell_type": "markdown",
   "id": "861188b8",
   "metadata": {},
   "source": [
    "##Implement Hash Table"
   ]
  },
  {
   "cell_type": "code",
   "execution_count": 23,
   "id": "e2c029d4",
   "metadata": {},
   "outputs": [],
   "source": [
    "class HashTable:\n",
    "    def __init__(self):\n",
    "        self.MAX = 100\n",
    "        self.arr = [None for i in range(self.MAX)]\n",
    "                    \n",
    "    def get_hash(self,key):               \n",
    "        hash=0\n",
    "        for char in key:\n",
    "            hash += ord(char)\n",
    "        return hash % self.MAX\n",
    "                    \n",
    "    def __getitem__(self, index):\n",
    "        h = self.get_hash(index)\n",
    "        return self.arr[h]\n",
    "            \n",
    "    def __setitem__(self, key, val):\n",
    "        h = self.get_hash(key)\n",
    "        self.arr[h] = val\n",
    "                \n",
    "    def __delitem__(self, key):\n",
    "        h = self.get_hash(key)\n",
    "        self.arr[h] = None"
   ]
  },
  {
   "cell_type": "code",
   "execution_count": 18,
   "id": "3f460c16",
   "metadata": {},
   "outputs": [
    {
     "data": {
      "text/plain": [
       "[None,\n",
       " None,\n",
       " None,\n",
       " None,\n",
       " None,\n",
       " None,\n",
       " None,\n",
       " None,\n",
       " None,\n",
       " None,\n",
       " None,\n",
       " None,\n",
       " None,\n",
       " None,\n",
       " None,\n",
       " None,\n",
       " None,\n",
       " None,\n",
       " None,\n",
       " None,\n",
       " None,\n",
       " None,\n",
       " None,\n",
       " None,\n",
       " None,\n",
       " None,\n",
       " None,\n",
       " None,\n",
       " None,\n",
       " None,\n",
       " None,\n",
       " None,\n",
       " None,\n",
       " None,\n",
       " None,\n",
       " None,\n",
       " None,\n",
       " None,\n",
       " None,\n",
       " None,\n",
       " None,\n",
       " None,\n",
       " None,\n",
       " None,\n",
       " None,\n",
       " None,\n",
       " None,\n",
       " None,\n",
       " None,\n",
       " None,\n",
       " None,\n",
       " None,\n",
       " None,\n",
       " None,\n",
       " None,\n",
       " None,\n",
       " None,\n",
       " None,\n",
       " None,\n",
       " None,\n",
       " None,\n",
       " None,\n",
       " None,\n",
       " None,\n",
       " None,\n",
       " None,\n",
       " None,\n",
       " None,\n",
       " None,\n",
       " None,\n",
       " None,\n",
       " None,\n",
       " None,\n",
       " None,\n",
       " None,\n",
       " None,\n",
       " None,\n",
       " None,\n",
       " None,\n",
       " None,\n",
       " None,\n",
       " None,\n",
       " None,\n",
       " None,\n",
       " None,\n",
       " None,\n",
       " None,\n",
       " None,\n",
       " None,\n",
       " None,\n",
       " None,\n",
       " None,\n",
       " None,\n",
       " None,\n",
       " None,\n",
       " None,\n",
       " None,\n",
       " None,\n",
       " None,\n",
       " None]"
      ]
     },
     "execution_count": 18,
     "metadata": {},
     "output_type": "execute_result"
    }
   ],
   "source": [
    "t = HashTable()\n",
    "t.arr"
   ]
  },
  {
   "cell_type": "code",
   "execution_count": 24,
   "id": "7c764376",
   "metadata": {},
   "outputs": [],
   "source": [
    "t = HashTable()\n",
    "t[\"strwr\"] = 10\n"
   ]
  },
  {
   "cell_type": "code",
   "execution_count": 25,
   "id": "7743fb5b",
   "metadata": {},
   "outputs": [],
   "source": [
    "del t[\"strwr\"]"
   ]
  },
  {
   "cell_type": "code",
   "execution_count": null,
   "id": "1a5d754b",
   "metadata": {},
   "outputs": [],
   "source": []
  }
 ],
 "metadata": {
  "kernelspec": {
   "display_name": "Python 3 (ipykernel)",
   "language": "python",
   "name": "python3"
  },
  "language_info": {
   "codemirror_mode": {
    "name": "ipython",
    "version": 3
   },
   "file_extension": ".py",
   "mimetype": "text/x-python",
   "name": "python",
   "nbconvert_exporter": "python",
   "pygments_lexer": "ipython3",
   "version": "3.9.7"
  }
 },
 "nbformat": 4,
 "nbformat_minor": 5
}
